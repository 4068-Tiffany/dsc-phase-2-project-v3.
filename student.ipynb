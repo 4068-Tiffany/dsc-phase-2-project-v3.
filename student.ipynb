{
 "cells": [
  {
   "cell_type": "markdown",
   "metadata": {},
   "source": [
    "## Final Project Submission\n",
    "\n",
    "Please fill out:\n",
    "* Student name: Tiffany Cheruto\n",
    "* Student pace: self paced\n",
    "* Scheduled project review date/time: \n",
    "* Instructor name: Asha Deen\n",
    "* Blog post URL:\n"
   ]
  },
  {
   "cell_type": "markdown",
   "metadata": {},
   "source": [
    "### BUSINESS UNDERSTANDING \n",
    "\n",
    "The movie industry generates a huge volume of content every year, but not all movies perform the same in terms of\n",
    "quality and popularity. Platforms like imdb capture ratings (how much people liked a movie), while\n",
    "tmdb captures popularity (attention over time).\n",
    "\n",
    "The main objective is to answer the following key business questions:\n",
    "\n",
    "1. **Are popular movies also highly rated?**  \n",
    "   Understanding the relationship between popularity and quality helps studios and streaming platforms know if \n",
    "   marketing-driven hype leads to critically good movies or just temporary attention.\n",
    "\n",
    "2. **What trends can we observe over time?**  \n",
    "   Tracking how ratings and popularity evolve over the years can help predict audience behavior, content planning, \n",
    "   and highlight shifts in audience taste.\n",
    "\n",
    "3. **Which genres dominate the movie industry?**  \n",
    "   By analyzing genres, we can find which genres:\n",
    "   - Are most popular among viewers\n",
    "   - Maintain consistently high ratings\n",
    "   - have high quality\n",
    "\n",
    "Ultimately, these insights help decision-makers (producers and marketers) align investments with \n",
    "both **audience demand** and **trends**.\n",
    "\n",
    "\n",
    "### DATA UNDERSTANDING\n",
    "\n",
    "Here, i used **imdb(sqlite)**\n",
    "       - movie_basics: movie_id, primary_title, start_year, genres.\n",
    "       - movie_ratings: movie_id, averagerating, numvotes.\n",
    "             **tmdb(excel)**\n",
    "       - genre_id, original_title, popularity, release_date, vote_average, vote_count.\n",
    "\n",
    "- Previewed the data in both sources to understand column names and records.\n",
    "- Checked for **row counts, duplicates, missing values**, and the general structure of the datasets.\n",
    "\n",
    "i chose this two because **imdb provides ratings** and **tmdb provides popularity metrics**, allowing us to analyze the relationship between them.\n"
   ]
  },
  {
   "cell_type": "markdown",
   "metadata": {},
   "source": [
    "Before we start cleaning and analyzing the data, we need to:\n",
    "1. Connect to the `im.db` SQLite database.\n",
    "2. List all tables in the database.\n",
    "3. Preview the first 5 rows of each table to:\n",
    "   - Understand the structure of the data\n",
    "   - See the column names and data types\n",
    "   - Identify missing values "
   ]
  },
  {
   "cell_type": "code",
   "execution_count": 196,
   "metadata": {},
   "outputs": [],
   "source": [
    "import pandas as pd\n",
    "import numpy as np\n",
    "import matplotlib.pyplot as plt\n",
    "%matplotlib inline\n",
    "import seaborn as sns\n",
    "import scipy.stats as st\n",
    "np.random.seed(0) #set a random seed for reproducibility\n",
    "import sqlite3"
   ]
  },
  {
   "cell_type": "code",
   "execution_count": 197,
   "metadata": {},
   "outputs": [
    {
     "name": "stdout",
     "output_type": "stream",
     "text": [
      "movie_basics\n",
      "directors\n",
      "known_for\n",
      "movie_akas\n",
      "movie_ratings\n",
      "persons\n",
      "principals\n",
      "writers\n",
      "tmdb.movies\n",
      "tmdb_movies\n"
     ]
    }
   ],
   "source": [
    "#connect to a database\n",
    "conn = sqlite3.connect(r\"C:\\Users\\USER\\Documents\\phase 2 project\\dsc-phase-2-project-v3\\zippedData\\im.db\\im.db\")\n",
    "\n",
    "#list all tables\n",
    "tables = conn.execute(\"SELECT name FROM sqlite_master WHERE type = 'table';\").fetchall()\n",
    "for t in tables:\n",
    "    print(t[0])"
   ]
  },
  {
   "cell_type": "markdown",
   "metadata": {},
   "source": [
    "Before we start cleaning and analyzing the data, we need to:\n",
    "1. Connect to the `im.db` SQLite database.\n",
    "2. List all tables in the database.\n",
    "3. Preview the first 5 rows of each table to:\n",
    "   - Understand the structure of the data\n",
    "   - See the column names and data types\n",
    "   - Identify missing values and inconsistencies"
   ]
  },
  {
   "cell_type": "code",
   "execution_count": 198,
   "metadata": {},
   "outputs": [
    {
     "name": "stdout",
     "output_type": "stream",
     "text": [
      "\n",
      "--- movie_basics ---\n",
      "    movie_id                    primary_title              original_title  \\\n",
      "0  tt0063540                        Sunghursh                   Sunghursh   \n",
      "1  tt0066787  One Day Before the Rainy Season             Ashad Ka Ek Din   \n",
      "2  tt0069049       The Other Side of the Wind  The Other Side of the Wind   \n",
      "3  tt0069204                  Sabse Bada Sukh             Sabse Bada Sukh   \n",
      "4  tt0100275         The Wandering Soap Opera       La Telenovela Errante   \n",
      "\n",
      "   start_year  runtime_minutes                genres  \n",
      "0        2013            175.0    Action,Crime,Drama  \n",
      "1        2019            114.0       Biography,Drama  \n",
      "2        2018            122.0                 Drama  \n",
      "3        2018              NaN          Comedy,Drama  \n",
      "4        2017             80.0  Comedy,Drama,Fantasy  \n",
      "\n",
      "--- directors ---\n",
      "    movie_id  person_id\n",
      "0  tt0285252  nm0899854\n",
      "1  tt0462036  nm1940585\n",
      "2  tt0835418  nm0151540\n",
      "3  tt0835418  nm0151540\n",
      "4  tt0878654  nm0089502\n",
      "\n",
      "--- known_for ---\n",
      "   person_id   movie_id\n",
      "0  nm0061671  tt0837562\n",
      "1  nm0061671  tt2398241\n",
      "2  nm0061671  tt0844471\n",
      "3  nm0061671  tt0118553\n",
      "4  nm0061865  tt0896534\n",
      "\n",
      "--- movie_akas ---\n",
      "    movie_id  ordering                                    title region  \\\n",
      "0  tt0369610        10                            Джурасик свят     BG   \n",
      "1  tt0369610        11                        Jurashikku warudo     JP   \n",
      "2  tt0369610        12  Jurassic World: O Mundo dos Dinossauros     BR   \n",
      "3  tt0369610        13                  O Mundo dos Dinossauros     BR   \n",
      "4  tt0369610        14                           Jurassic World     FR   \n",
      "\n",
      "  language        types   attributes  is_original_title  \n",
      "0       bg         None         None                0.0  \n",
      "1     None  imdbDisplay         None                0.0  \n",
      "2     None  imdbDisplay         None                0.0  \n",
      "3     None         None  short title                0.0  \n",
      "4     None  imdbDisplay         None                0.0  \n",
      "\n",
      "--- movie_ratings ---\n",
      "     movie_id  averagerating  numvotes\n",
      "0  tt10356526            8.3        31\n",
      "1  tt10384606            8.9       559\n",
      "2   tt1042974            6.4        20\n",
      "3   tt1043726            4.2     50352\n",
      "4   tt1060240            6.5        21\n",
      "\n",
      "--- persons ---\n",
      "   person_id       primary_name birth_year death_year  \\\n",
      "0  nm0061671  Mary Ellen Bauder       None       None   \n",
      "1  nm0061865       Joseph Bauer       None       None   \n",
      "2  nm0062070         Bruce Baum       None       None   \n",
      "3  nm0062195       Axel Baumann       None       None   \n",
      "4  nm0062798        Pete Baxter       None       None   \n",
      "\n",
      "                                 primary_profession  \n",
      "0         miscellaneous,production_manager,producer  \n",
      "1        composer,music_department,sound_department  \n",
      "2                        miscellaneous,actor,writer  \n",
      "3  camera_department,cinematographer,art_department  \n",
      "4  production_designer,art_department,set_decorator  \n",
      "\n",
      "--- principals ---\n",
      "    movie_id  ordering  person_id  category       job        characters\n",
      "0  tt0111414         1  nm0246005     actor      None       [\"The Man\"]\n",
      "1  tt0111414         2  nm0398271  director      None              None\n",
      "2  tt0111414         3  nm3739909  producer  producer              None\n",
      "3  tt0323808        10  nm0059247    editor      None              None\n",
      "4  tt0323808         1  nm3579312   actress      None  [\"Beth Boothby\"]\n",
      "\n",
      "--- writers ---\n",
      "    movie_id  person_id\n",
      "0  tt0285252  nm0899854\n",
      "1  tt0438973  nm0175726\n",
      "2  tt0438973  nm1802864\n",
      "3  tt0462036  nm1940585\n",
      "4  tt0835418  nm0310087\n",
      "\n",
      "--- tmdb.movies ---\n"
     ]
    },
    {
     "ename": "DatabaseError",
     "evalue": "Execution failed on sql 'SELECT * FROM tmdb.movies LIMIT 5;': no such table: tmdb.movies",
     "output_type": "error",
     "traceback": [
      "\u001b[1;31m---------------------------------------------------------------------------\u001b[0m",
      "\u001b[1;31mOperationalError\u001b[0m                          Traceback (most recent call last)",
      "File \u001b[1;32mc:\\Users\\USER\\anaconda3\\Lib\\site-packages\\pandas\\io\\sql.py:2674\u001b[0m, in \u001b[0;36mSQLiteDatabase.execute\u001b[1;34m(self, sql, params)\u001b[0m\n\u001b[0;32m   2673\u001b[0m \u001b[38;5;28;01mtry\u001b[39;00m:\n\u001b[1;32m-> 2674\u001b[0m     cur\u001b[38;5;241m.\u001b[39mexecute(sql, \u001b[38;5;241m*\u001b[39margs)\n\u001b[0;32m   2675\u001b[0m     \u001b[38;5;28;01mreturn\u001b[39;00m cur\n",
      "\u001b[1;31mOperationalError\u001b[0m: no such table: tmdb.movies",
      "\nThe above exception was the direct cause of the following exception:\n",
      "\u001b[1;31mDatabaseError\u001b[0m                             Traceback (most recent call last)",
      "Cell \u001b[1;32mIn[198], line 8\u001b[0m\n\u001b[0;32m      6\u001b[0m \u001b[38;5;66;03m# Read 5 rows into a dataframe\u001b[39;00m\n\u001b[0;32m      7\u001b[0m query \u001b[38;5;241m=\u001b[39m \u001b[38;5;124mf\u001b[39m\u001b[38;5;124m\"\u001b[39m\u001b[38;5;124mSELECT * FROM \u001b[39m\u001b[38;5;132;01m{\u001b[39;00mtable_name\u001b[38;5;132;01m}\u001b[39;00m\u001b[38;5;124m LIMIT 5;\u001b[39m\u001b[38;5;124m\"\u001b[39m\n\u001b[1;32m----> 8\u001b[0m df_preview \u001b[38;5;241m=\u001b[39m pd\u001b[38;5;241m.\u001b[39mread_sql_query(query, conn)\n\u001b[0;32m     10\u001b[0m \u001b[38;5;66;03m# Print the preview\u001b[39;00m\n\u001b[0;32m     11\u001b[0m \u001b[38;5;28mprint\u001b[39m(df_preview)\n",
      "File \u001b[1;32mc:\\Users\\USER\\anaconda3\\Lib\\site-packages\\pandas\\io\\sql.py:526\u001b[0m, in \u001b[0;36mread_sql_query\u001b[1;34m(sql, con, index_col, coerce_float, params, parse_dates, chunksize, dtype, dtype_backend)\u001b[0m\n\u001b[0;32m    523\u001b[0m \u001b[38;5;28;01massert\u001b[39;00m dtype_backend \u001b[38;5;129;01mis\u001b[39;00m \u001b[38;5;129;01mnot\u001b[39;00m lib\u001b[38;5;241m.\u001b[39mno_default\n\u001b[0;32m    525\u001b[0m \u001b[38;5;28;01mwith\u001b[39;00m pandasSQL_builder(con) \u001b[38;5;28;01mas\u001b[39;00m pandas_sql:\n\u001b[1;32m--> 526\u001b[0m     \u001b[38;5;28;01mreturn\u001b[39;00m pandas_sql\u001b[38;5;241m.\u001b[39mread_query(\n\u001b[0;32m    527\u001b[0m         sql,\n\u001b[0;32m    528\u001b[0m         index_col\u001b[38;5;241m=\u001b[39mindex_col,\n\u001b[0;32m    529\u001b[0m         params\u001b[38;5;241m=\u001b[39mparams,\n\u001b[0;32m    530\u001b[0m         coerce_float\u001b[38;5;241m=\u001b[39mcoerce_float,\n\u001b[0;32m    531\u001b[0m         parse_dates\u001b[38;5;241m=\u001b[39mparse_dates,\n\u001b[0;32m    532\u001b[0m         chunksize\u001b[38;5;241m=\u001b[39mchunksize,\n\u001b[0;32m    533\u001b[0m         dtype\u001b[38;5;241m=\u001b[39mdtype,\n\u001b[0;32m    534\u001b[0m         dtype_backend\u001b[38;5;241m=\u001b[39mdtype_backend,\n\u001b[0;32m    535\u001b[0m     )\n",
      "File \u001b[1;32mc:\\Users\\USER\\anaconda3\\Lib\\site-packages\\pandas\\io\\sql.py:2738\u001b[0m, in \u001b[0;36mSQLiteDatabase.read_query\u001b[1;34m(self, sql, index_col, coerce_float, parse_dates, params, chunksize, dtype, dtype_backend)\u001b[0m\n\u001b[0;32m   2727\u001b[0m \u001b[38;5;28;01mdef\u001b[39;00m \u001b[38;5;21mread_query\u001b[39m(\n\u001b[0;32m   2728\u001b[0m     \u001b[38;5;28mself\u001b[39m,\n\u001b[0;32m   2729\u001b[0m     sql,\n\u001b[1;32m   (...)\u001b[0m\n\u001b[0;32m   2736\u001b[0m     dtype_backend: DtypeBackend \u001b[38;5;241m|\u001b[39m Literal[\u001b[38;5;124m\"\u001b[39m\u001b[38;5;124mnumpy\u001b[39m\u001b[38;5;124m\"\u001b[39m] \u001b[38;5;241m=\u001b[39m \u001b[38;5;124m\"\u001b[39m\u001b[38;5;124mnumpy\u001b[39m\u001b[38;5;124m\"\u001b[39m,\n\u001b[0;32m   2737\u001b[0m ) \u001b[38;5;241m-\u001b[39m\u001b[38;5;241m>\u001b[39m DataFrame \u001b[38;5;241m|\u001b[39m Iterator[DataFrame]:\n\u001b[1;32m-> 2738\u001b[0m     cursor \u001b[38;5;241m=\u001b[39m \u001b[38;5;28mself\u001b[39m\u001b[38;5;241m.\u001b[39mexecute(sql, params)\n\u001b[0;32m   2739\u001b[0m     columns \u001b[38;5;241m=\u001b[39m [col_desc[\u001b[38;5;241m0\u001b[39m] \u001b[38;5;28;01mfor\u001b[39;00m col_desc \u001b[38;5;129;01min\u001b[39;00m cursor\u001b[38;5;241m.\u001b[39mdescription]\n\u001b[0;32m   2741\u001b[0m     \u001b[38;5;28;01mif\u001b[39;00m chunksize \u001b[38;5;129;01mis\u001b[39;00m \u001b[38;5;129;01mnot\u001b[39;00m \u001b[38;5;28;01mNone\u001b[39;00m:\n",
      "File \u001b[1;32mc:\\Users\\USER\\anaconda3\\Lib\\site-packages\\pandas\\io\\sql.py:2686\u001b[0m, in \u001b[0;36mSQLiteDatabase.execute\u001b[1;34m(self, sql, params)\u001b[0m\n\u001b[0;32m   2683\u001b[0m     \u001b[38;5;28;01mraise\u001b[39;00m ex \u001b[38;5;28;01mfrom\u001b[39;00m \u001b[38;5;21;01minner_exc\u001b[39;00m\n\u001b[0;32m   2685\u001b[0m ex \u001b[38;5;241m=\u001b[39m DatabaseError(\u001b[38;5;124mf\u001b[39m\u001b[38;5;124m\"\u001b[39m\u001b[38;5;124mExecution failed on sql \u001b[39m\u001b[38;5;124m'\u001b[39m\u001b[38;5;132;01m{\u001b[39;00msql\u001b[38;5;132;01m}\u001b[39;00m\u001b[38;5;124m'\u001b[39m\u001b[38;5;124m: \u001b[39m\u001b[38;5;132;01m{\u001b[39;00mexc\u001b[38;5;132;01m}\u001b[39;00m\u001b[38;5;124m\"\u001b[39m)\n\u001b[1;32m-> 2686\u001b[0m \u001b[38;5;28;01mraise\u001b[39;00m ex \u001b[38;5;28;01mfrom\u001b[39;00m \u001b[38;5;21;01mexc\u001b[39;00m\n",
      "\u001b[1;31mDatabaseError\u001b[0m: Execution failed on sql 'SELECT * FROM tmdb.movies LIMIT 5;': no such table: tmdb.movies"
     ]
    }
   ],
   "source": [
    "# Loop through tables\n",
    "for t in tables:\n",
    "    table_name = t[0]\n",
    "    print(f\"\\n--- {table_name} ---\")\n",
    "    \n",
    "    # Read 5 rows into a dataframe\n",
    "    query = f\"SELECT * FROM {table_name} LIMIT 5;\"\n",
    "    df_preview = pd.read_sql_query(query, conn)\n",
    "    \n",
    "    # Print the preview\n",
    "    print(df_preview)"
   ]
  },
  {
   "cell_type": "code",
   "execution_count": null,
   "metadata": {},
   "outputs": [
    {
     "name": "stdout",
     "output_type": "stream",
     "text": [
      "movie_basics: 146,144 rows\n",
      "directors: 291,174 rows\n",
      "known_for: 1,638,260 rows\n",
      "movie_akas: 331,703 rows\n",
      "movie_ratings: 73,856 rows\n",
      "persons: 606,648 rows\n",
      "principals: 1,028,186 rows\n",
      "writers: 255,873 rows\n"
     ]
    }
   ],
   "source": [
    "# Count rows for each table\n",
    "for t in tables:\n",
    "    table_name = t[0]\n",
    "    count = conn.execute(f\"SELECT COUNT(*) FROM {table_name};\").fetchone()[0]\n",
    "    print(f\"{table_name}: {count:,} rows\")\n"
   ]
  },
  {
   "cell_type": "markdown",
   "metadata": {},
   "source": [
    "Now that we've Connected to the `im.db` SQLite database, Listed all tables in the database and Previewed the first 5 rows of each table, we can now start cleaning the column names and data types.\n",
    "1. Handle Missing Values\n",
    "   - Replace `\\N` and empty strings with proper `NaN`.\n",
    "2. Correct Data Types\n",
    "   - Convert numeric columns (e.g., ratings, years, votes, popularity) \n",
    "     from text to numbers.\n",
    "   - Parse dates (e.g., `release_date`) into datetime format.\n",
    "3. Remove Duplicates \n",
    "   - Drop any duplicate rows that may exist.\n",
    "4. Prepare for Analysis\n",
    "   - Add useful derived columns (like `year` from `release_date`) \n",
    "     and ensure that we stick to formating it"
   ]
  },
  {
   "cell_type": "code",
   "execution_count": null,
   "metadata": {},
   "outputs": [],
   "source": [
    "def load_and_clean_table(table_name, conn):\n",
    "    # Load table\n",
    "    df = pd.read_sql_query(f\"SELECT * FROM {table_name};\", conn)\n",
    "\n",
    "    # Replace \\N and empty strings with NaN\n",
    "    df.replace(['\\\\N', ''], np.nan, inplace=True)\n",
    "\n",
    "    # Drop duplicate rows if any to ensure that every row has a unique record\n",
    "    df.drop_duplicates(inplace=True)\n",
    "\n",
    "    return df\n"
   ]
  },
  {
   "cell_type": "markdown",
   "metadata": {},
   "source": [
    "Use errors='coerce' to tell pandas how to handle invalid values"
   ]
  },
  {
   "cell_type": "code",
   "execution_count": null,
   "metadata": {},
   "outputs": [
    {
     "name": "stdout",
     "output_type": "stream",
     "text": [
      "Cleaning table: movie_basics\n",
      "Cleaning table: directors\n",
      "Cleaning table: known_for\n",
      "Cleaning table: movie_akas\n",
      "Cleaning table: movie_ratings\n",
      "Cleaning table: persons\n",
      "Cleaning table: principals\n",
      "Cleaning table: writers\n"
     ]
    }
   ],
   "source": [
    "tables_cleaned = {}\n",
    "\n",
    "for t in tables:\n",
    "    table_name = t[0]\n",
    "    print(f\"Cleaning table: {table_name}\")\n",
    "    df = load_and_clean_table(table_name, conn)\n",
    "\n",
    "    # Specific fixes based on table\n",
    "    if table_name == 'movie_basics':\n",
    "        # convert year and runtime\n",
    "        df['start_year'] = pd.to_numeric(df['start_year'], errors='coerce')\n",
    "        df['runtime_minutes'] = pd.to_numeric(df['runtime_minutes'], errors='coerce')\n",
    "\n",
    "    if table_name == 'movie_ratings':\n",
    "        df['averagerating'] = pd.to_numeric(df['averagerating'], errors='coerce')\n",
    "        df['numvotes'] = pd.to_numeric(df['numvotes'], errors='coerce')\n",
    "\n",
    "    if table_name == 'tmdb_movies':\n",
    "        # Parse release_date: keeping them as strings limits what i can do with them since they're usually stored as a string\n",
    "        # Add a year column to simplify grouping and reduce complexity for grouping.\n",
    "        df['release_date'] = pd.to_datetime(df['release_date'], errors='coerce')\n",
    "        df['popularity'] = pd.to_numeric(df['popularity'], errors='coerce')\n",
    "        df['vote_average'] = pd.to_numeric(df['vote_average'], errors='coerce')\n",
    "        df['vote_count'] = pd.to_numeric(df['vote_count'], errors='coerce')\n",
    "        df['year'] = df['release_date'].dt.year\n",
    "\n",
    "    # Save cleaned DataFrame\n",
    "    tables_cleaned[table_name] = df\n"
   ]
  },
  {
   "cell_type": "markdown",
   "metadata": {},
   "source": [
    "Let's check on the cleaned data to ensure that our data was actually cleaned, nothing was accidentally deleted."
   ]
  },
  {
   "cell_type": "code",
   "execution_count": null,
   "metadata": {},
   "outputs": [
    {
     "name": "stdout",
     "output_type": "stream",
     "text": [
      "movie_basics: 146,144 rows, 6 columns\n",
      "directors: 163,535 rows, 2 columns\n",
      "known_for: 1,638,260 rows, 2 columns\n",
      "movie_akas: 331,703 rows, 8 columns\n",
      "movie_ratings: 73,856 rows, 3 columns\n",
      "persons: 606,648 rows, 5 columns\n",
      "principals: 1,028,186 rows, 6 columns\n",
      "writers: 178,352 rows, 2 columns\n"
     ]
    }
   ],
   "source": [
    "#check cleaned data\n",
    "for name, df in tables_cleaned.items():\n",
    "    print(f\"{name}: {df.shape[0]:,} rows, {df.shape[1]} columns\")\n"
   ]
  },
  {
   "cell_type": "markdown",
   "metadata": {},
   "source": [
    "## CLEANING THE EXCEL DATASET ##\n",
    "\n",
    "Load the dataset and then the next step is to ensure it is clean and ready for analysis.\n",
    "\n",
    "We must ensure that we:\n",
    "1. Handle Missing Values\n",
    "   - Replace `\\N` or empty strings with `NaN`.\n",
    "   - Confirm if there are any actual missing values.\n",
    "2. Ensure Correct Data Types\n",
    "   - Convert numeric columns like `popularity`, `vote_average`, and `vote_count`.\n",
    "   - Convert `release_date` into a datetime format and extract the `year`.\n",
    "3. Remove Duplicates\n",
    "   - Drop any duplicate rows to ensure unique records.\n",
    "4. Verify Data Quality\n",
    "   - After cleaning, we will check the shape, data types, and missing value counts to confirm that the dataset is ready for analysis.\n",
    "\n",
    "\n"
   ]
  },
  {
   "cell_type": "code",
   "execution_count": null,
   "metadata": {},
   "outputs": [
    {
     "name": "stdout",
     "output_type": "stream",
     "text": [
      "   Unnamed: 0            genre_ids     id original_language  \\\n",
      "0           0      [12, 14, 10751]  12444                en   \n",
      "1           1  [14, 12, 16, 10751]  10191                en   \n",
      "2           2        [12, 28, 878]  10138                en   \n",
      "3           3      [16, 35, 10751]    862                en   \n",
      "4           4        [28, 878, 12]  27205                en   \n",
      "\n",
      "                                 original_title  popularity release_date  \\\n",
      "0  Harry Potter and the Deathly Hallows: Part 1      33.533   2010-11-19   \n",
      "1                      How to Train Your Dragon      28.734   2010-03-26   \n",
      "2                                    Iron Man 2      28.515   2010-05-07   \n",
      "3                                     Toy Story      28.005   1995-11-22   \n",
      "4                                     Inception      27.920   2010-07-16   \n",
      "\n",
      "                                          title  vote_average  vote_count  \n",
      "0  Harry Potter and the Deathly Hallows: Part 1           7.7       10788  \n",
      "1                      How to Train Your Dragon           7.7        7610  \n",
      "2                                    Iron Man 2           6.8       12368  \n",
      "3                                     Toy Story           7.9       10174  \n",
      "4                                     Inception           8.3       22186  \n"
     ]
    }
   ],
   "source": [
    "\n",
    "# Load your Excel file\n",
    "df = pd.read_csv(r\"C:\\Users\\USER\\Documents\\phase 2 project\\dsc-phase-2-project-v3\\zippedData\\tmdb.movies.csv\\tmdb.movies.csv\")\n",
    "\n",
    "# Quick preview\n",
    "print(df.head()) #first 5 rows\n",
    "\n"
   ]
  },
  {
   "cell_type": "code",
   "execution_count": null,
   "metadata": {},
   "outputs": [
    {
     "name": "stdout",
     "output_type": "stream",
     "text": [
      "(26517, 10)\n"
     ]
    }
   ],
   "source": [
    "#size of the dataset\n",
    "print(df.shape)"
   ]
  },
  {
   "cell_type": "code",
   "execution_count": null,
   "metadata": {},
   "outputs": [
    {
     "data": {
      "text/plain": [
       "<bound method DataFrame.info of        Unnamed: 0            genre_ids      id original_language  \\\n",
       "0               0      [12, 14, 10751]   12444                en   \n",
       "1               1  [14, 12, 16, 10751]   10191                en   \n",
       "2               2        [12, 28, 878]   10138                en   \n",
       "3               3      [16, 35, 10751]     862                en   \n",
       "4               4        [28, 878, 12]   27205                en   \n",
       "...           ...                  ...     ...               ...   \n",
       "26512       26512             [27, 18]  488143                en   \n",
       "26513       26513             [18, 53]  485975                en   \n",
       "26514       26514         [14, 28, 12]  381231                en   \n",
       "26515       26515      [10751, 12, 28]  366854                en   \n",
       "26516       26516             [53, 27]  309885                en   \n",
       "\n",
       "                                     original_title  popularity release_date  \\\n",
       "0      Harry Potter and the Deathly Hallows: Part 1      33.533   2010-11-19   \n",
       "1                          How to Train Your Dragon      28.734   2010-03-26   \n",
       "2                                        Iron Man 2      28.515   2010-05-07   \n",
       "3                                         Toy Story      28.005   1995-11-22   \n",
       "4                                         Inception      27.920   2010-07-16   \n",
       "...                                             ...         ...          ...   \n",
       "26512                         Laboratory Conditions       0.600   2018-10-13   \n",
       "26513                               _EXHIBIT_84xxx_       0.600   2018-05-01   \n",
       "26514                                  The Last One       0.600   2018-10-01   \n",
       "26515                                  Trailer Made       0.600   2018-06-22   \n",
       "26516                                    The Church       0.600   2018-10-05   \n",
       "\n",
       "                                              title  vote_average  vote_count  \n",
       "0      Harry Potter and the Deathly Hallows: Part 1           7.7       10788  \n",
       "1                          How to Train Your Dragon           7.7        7610  \n",
       "2                                        Iron Man 2           6.8       12368  \n",
       "3                                         Toy Story           7.9       10174  \n",
       "4                                         Inception           8.3       22186  \n",
       "...                                             ...           ...         ...  \n",
       "26512                         Laboratory Conditions           0.0           1  \n",
       "26513                               _EXHIBIT_84xxx_           0.0           1  \n",
       "26514                                  The Last One           0.0           1  \n",
       "26515                                  Trailer Made           0.0           1  \n",
       "26516                                    The Church           0.0           1  \n",
       "\n",
       "[26517 rows x 10 columns]>"
      ]
     },
     "execution_count": 53,
     "metadata": {},
     "output_type": "execute_result"
    }
   ],
   "source": [
    "#data types for all the columns and null values\n",
    "df.info"
   ]
  },
  {
   "cell_type": "code",
   "execution_count": null,
   "metadata": {},
   "outputs": [],
   "source": [
    "# Replace \\N and blanks with NaN\n",
    "df.replace(['\\\\N', ''], np.nan, inplace=True)\n",
    "# Drop duplicates\n",
    "df.drop_duplicates(inplace=True)"
   ]
  },
  {
   "cell_type": "code",
   "execution_count": null,
   "metadata": {},
   "outputs": [
    {
     "name": "stdout",
     "output_type": "stream",
     "text": [
      "(26517, 11)\n"
     ]
    }
   ],
   "source": [
    "# Fix numeric columns\n",
    "for col in ['popularity', 'vote_average', 'vote_count']:\n",
    "    if col in df.columns:\n",
    "        df[col] = pd.to_numeric(df[col], errors='coerce')\n",
    "\n",
    "# Fix release_date if present\n",
    "if 'release_date' in df.columns:\n",
    "    df['release_date'] = pd.to_datetime(df['release_date'], errors='coerce')\n",
    "    df['year'] = df['release_date'].dt.year\n",
    "    print(df.shape)"
   ]
  },
  {
   "cell_type": "markdown",
   "metadata": {},
   "source": [
    "We have to confirm if there are any rows with any missing values to avoid any duplicates"
   ]
  },
  {
   "cell_type": "code",
   "execution_count": null,
   "metadata": {},
   "outputs": [
    {
     "data": {
      "text/plain": [
       "Unnamed: 0           0\n",
       "genre_ids            0\n",
       "id                   0\n",
       "original_language    0\n",
       "original_title       0\n",
       "popularity           0\n",
       "release_date         0\n",
       "title                0\n",
       "vote_average         0\n",
       "vote_count           0\n",
       "year                 0\n",
       "dtype: int64"
      ]
     },
     "execution_count": 56,
     "metadata": {},
     "output_type": "execute_result"
    }
   ],
   "source": [
    "#count missing values\n",
    "df.isna().sum()"
   ]
  },
  {
   "cell_type": "code",
   "execution_count": null,
   "metadata": {},
   "outputs": [
    {
     "data": {
      "text/plain": [
       "26517"
      ]
     },
     "execution_count": 66,
     "metadata": {},
     "output_type": "execute_result"
    }
   ],
   "source": [
    "conn = sqlite3.connect(r\"C:\\Users\\USER\\Documents\\phase 2 project\\dsc-phase-2-project-v3\\zippedData\\im.db\\im.db\")\n",
    "\n",
    "# Save your cleaned Excel DataFrame to the database\n",
    "df.to_sql('tmdb_movies', conn, if_exists='replace', index=False)\n"
   ]
  },
  {
   "cell_type": "code",
   "execution_count": null,
   "metadata": {},
   "outputs": [
    {
     "name": "stdout",
     "output_type": "stream",
     "text": [
      "['movie_basics', 'directors', 'known_for', 'movie_akas', 'movie_ratings', 'persons', 'principals', 'writers', 'tmdb.movies', 'tmdb_movies']\n"
     ]
    }
   ],
   "source": [
    "# Check all table names\n",
    "tables = conn.execute(\"SELECT name FROM sqlite_master WHERE type='table';\").fetchall()\n",
    "print([t[0] for t in tables])\n"
   ]
  },
  {
   "cell_type": "markdown",
   "metadata": {},
   "source": [
    "### DATA MERGING ###\n",
    "\n",
    "In this step, we perform a comprehensive join to bring together data from four sources into a single dataset:\n",
    "\n",
    "1. imdb – `movie_basics`\n",
    "   years, and genres.\n",
    "\n",
    "2. imdb – `movie_ratings` \n",
    "   Provides IMDb ratings (`averagerating`) and vote counts (`numvotes`).\n",
    "\n",
    "3. tmdb – `tmdb_movies`\n",
    "   Provides popularity, TMDb ratings (`vote_average`), vote counts, and genre IDs.\n",
    "\n",
    "4. imdb – `principals`\n",
    "   Links each movie to its people (actors, directors, writers, etc.) through `person_id` and `category`.\n",
    "\n",
    "\n",
    "- Join `movie_basics` with `movie_ratings` using `movie_id`.\n",
    "- Join the result with `tmdb_movies` using `primary_title` + `start_year` = `original_title` + `year`.\n",
    "- Finally, perform a LEFT JOIN with `principals` on `movie_id` so that all movies are retained even if no associated people are present.\n",
    "\n",
    "WHY: \n",
    "This combined dataset allows us to:\n",
    "- Analyze correlations between popularity and ratings,\n",
    "- Explore patterns and trends over time,\n",
    "- And later investigate how directors, actors, or writers may influence a movie’s success.\n"
   ]
  },
  {
   "cell_type": "markdown",
   "metadata": {},
   "source": [
    "Let us verify that the data is loaded correctly by previewing. This is to:\n",
    "-Ensure that movie_basics, movie_ratings, and tmdb_movies and principals exist in the database.\n",
    "-Confirm that the import from Excel to SQLite worked as expected."
   ]
  },
  {
   "cell_type": "code",
   "execution_count": null,
   "metadata": {},
   "outputs": [
    {
     "name": "stdout",
     "output_type": "stream",
     "text": [
      "    movie_id                    primary_title              original_title  \\\n",
      "0  tt0063540                        Sunghursh                   Sunghursh   \n",
      "1  tt0066787  One Day Before the Rainy Season             Ashad Ka Ek Din   \n",
      "2  tt0069049       The Other Side of the Wind  The Other Side of the Wind   \n",
      "3  tt0069204                  Sabse Bada Sukh             Sabse Bada Sukh   \n",
      "4  tt0100275         The Wandering Soap Opera       La Telenovela Errante   \n",
      "\n",
      "   start_year  runtime_minutes                genres  \n",
      "0        2013            175.0    Action,Crime,Drama  \n",
      "1        2019            114.0       Biography,Drama  \n",
      "2        2018            122.0                 Drama  \n",
      "3        2018              NaN          Comedy,Drama  \n",
      "4        2017             80.0  Comedy,Drama,Fantasy  \n",
      "     movie_id  averagerating  numvotes\n",
      "0  tt10356526            8.3        31\n",
      "1  tt10384606            8.9       559\n",
      "2   tt1042974            6.4        20\n",
      "3   tt1043726            4.2     50352\n",
      "4   tt1060240            6.5        21\n",
      "   Unnamed: 0            genre_ids     id original_language  \\\n",
      "0           0      [12, 14, 10751]  12444                en   \n",
      "1           1  [14, 12, 16, 10751]  10191                en   \n",
      "2           2        [12, 28, 878]  10138                en   \n",
      "3           3      [16, 35, 10751]    862                en   \n",
      "4           4        [28, 878, 12]  27205                en   \n",
      "\n",
      "                                 original_title  popularity  \\\n",
      "0  Harry Potter and the Deathly Hallows: Part 1      33.533   \n",
      "1                      How to Train Your Dragon      28.734   \n",
      "2                                    Iron Man 2      28.515   \n",
      "3                                     Toy Story      28.005   \n",
      "4                                     Inception      27.920   \n",
      "\n",
      "          release_date                                         title  \\\n",
      "0  2010-11-19 00:00:00  Harry Potter and the Deathly Hallows: Part 1   \n",
      "1  2010-03-26 00:00:00                      How to Train Your Dragon   \n",
      "2  2010-05-07 00:00:00                                    Iron Man 2   \n",
      "3  1995-11-22 00:00:00                                     Toy Story   \n",
      "4  2010-07-16 00:00:00                                     Inception   \n",
      "\n",
      "   vote_average  vote_count  year  \n",
      "0           7.7       10788  2010  \n",
      "1           7.7        7610  2010  \n",
      "2           6.8       12368  2010  \n",
      "3           7.9       10174  1995  \n",
      "4           8.3       22186  2010  \n",
      "    movie_id  ordering  person_id  category       job        characters\n",
      "0  tt0111414         1  nm0246005     actor      None       [\"The Man\"]\n",
      "1  tt0111414         2  nm0398271  director      None              None\n",
      "2  tt0111414         3  nm3739909  producer  producer              None\n",
      "3  tt0323808        10  nm0059247    editor      None              None\n",
      "4  tt0323808         1  nm3579312   actress      None  [\"Beth Boothby\"]\n"
     ]
    }
   ],
   "source": [
    "# Preview 5 rows of movie_basics\n",
    "print(pd.read_sql_query(\"SELECT * FROM movie_basics LIMIT 5;\", conn).head())\n",
    "\n",
    "# Preview 5 rows of movie_ratings\n",
    "print(pd.read_sql_query(\"SELECT * FROM movie_ratings LIMIT 5;\", conn).head())\n",
    "\n",
    "# Preview 5 rows of tmdb_movies\n",
    "print(pd.read_sql_query(\"SELECT * FROM tmdb_movies LIMIT 5;\", conn).head())\n",
    "\n",
    "#Preview 5 rows of principals\n",
    "print(pd.read_sql_query(\"SELECT * FROM principals LIMIT 5;\",conn).head())\n"
   ]
  },
  {
   "cell_type": "markdown",
   "metadata": {},
   "source": [
    "Lets input a code to show all the available columns in each table so as to help us while merging tables together."
   ]
  },
  {
   "cell_type": "code",
   "execution_count": null,
   "metadata": {},
   "outputs": [
    {
     "name": "stdout",
     "output_type": "stream",
     "text": [
      "Columns in movie_basics:\n",
      " - movie_id\n",
      " - primary_title\n",
      " - original_title\n",
      " - start_year\n",
      " - runtime_minutes\n",
      " - genres\n",
      "Columns in movie_ratings:\n",
      " - movie_id\n",
      " - averagerating\n",
      " - numvotes\n",
      "Columns in tmdb_movies:\n",
      " - Unnamed: 0\n",
      " - genre_ids\n",
      " - id\n",
      " - original_language\n",
      " - original_title\n",
      " - popularity\n",
      " - release_date\n",
      " - title\n",
      " - vote_average\n",
      " - vote_count\n",
      " - year\n",
      "Columns in principals:\n",
      " - movie_id\n",
      " - ordering\n",
      " - person_id\n",
      " - category\n",
      " - job\n",
      " - characters\n"
     ]
    }
   ],
   "source": [
    "# Function to show all column names of a table\n",
    "def show_columns(table):\n",
    "    cols = conn.execute(f\"PRAGMA table_info({table});\").fetchall()\n",
    "    print(f\"Columns in {table}:\")\n",
    "    for c in cols:\n",
    "        print(\" -\", c[1])\n",
    "\n",
    "# Check columns\n",
    "show_columns(\"movie_basics\")\n",
    "show_columns(\"movie_ratings\")\n",
    "show_columns(\"tmdb_movies\")\n",
    "show_columns(\"principals\")"
   ]
  },
  {
   "cell_type": "code",
   "execution_count": null,
   "metadata": {},
   "outputs": [
    {
     "name": "stdout",
     "output_type": "stream",
     "text": [
      "Rows in basic merge: (106976, 7)\n"
     ]
    },
    {
     "data": {
      "text/html": [
       "<div>\n",
       "<style scoped>\n",
       "    .dataframe tbody tr th:only-of-type {\n",
       "        vertical-align: middle;\n",
       "    }\n",
       "\n",
       "    .dataframe tbody tr th {\n",
       "        vertical-align: top;\n",
       "    }\n",
       "\n",
       "    .dataframe thead th {\n",
       "        text-align: right;\n",
       "    }\n",
       "</style>\n",
       "<table border=\"1\" class=\"dataframe\">\n",
       "  <thead>\n",
       "    <tr style=\"text-align: right;\">\n",
       "      <th></th>\n",
       "      <th>primary_title</th>\n",
       "      <th>start_year</th>\n",
       "      <th>averagerating</th>\n",
       "      <th>popularity</th>\n",
       "      <th>vote_average</th>\n",
       "      <th>person_id</th>\n",
       "      <th>category</th>\n",
       "    </tr>\n",
       "  </thead>\n",
       "  <tbody>\n",
       "    <tr>\n",
       "      <th>0</th>\n",
       "      <td>The Other Side of the Wind</td>\n",
       "      <td>2018</td>\n",
       "      <td>6.9</td>\n",
       "      <td>9.8</td>\n",
       "      <td>7.0</td>\n",
       "      <td>nm0000080</td>\n",
       "      <td>director</td>\n",
       "    </tr>\n",
       "    <tr>\n",
       "      <th>1</th>\n",
       "      <td>The Other Side of the Wind</td>\n",
       "      <td>2018</td>\n",
       "      <td>6.9</td>\n",
       "      <td>9.8</td>\n",
       "      <td>7.0</td>\n",
       "      <td>nm0000953</td>\n",
       "      <td>actor</td>\n",
       "    </tr>\n",
       "    <tr>\n",
       "      <th>2</th>\n",
       "      <td>The Other Side of the Wind</td>\n",
       "      <td>2018</td>\n",
       "      <td>6.9</td>\n",
       "      <td>9.8</td>\n",
       "      <td>7.0</td>\n",
       "      <td>nm0001379</td>\n",
       "      <td>actor</td>\n",
       "    </tr>\n",
       "    <tr>\n",
       "      <th>3</th>\n",
       "      <td>The Other Side of the Wind</td>\n",
       "      <td>2018</td>\n",
       "      <td>6.9</td>\n",
       "      <td>9.8</td>\n",
       "      <td>7.0</td>\n",
       "      <td>nm0001782</td>\n",
       "      <td>actress</td>\n",
       "    </tr>\n",
       "    <tr>\n",
       "      <th>4</th>\n",
       "      <td>The Other Side of the Wind</td>\n",
       "      <td>2018</td>\n",
       "      <td>6.9</td>\n",
       "      <td>9.8</td>\n",
       "      <td>7.0</td>\n",
       "      <td>nm0004372</td>\n",
       "      <td>cinematographer</td>\n",
       "    </tr>\n",
       "  </tbody>\n",
       "</table>\n",
       "</div>"
      ],
      "text/plain": [
       "                primary_title  start_year  averagerating  popularity  \\\n",
       "0  The Other Side of the Wind        2018            6.9         9.8   \n",
       "1  The Other Side of the Wind        2018            6.9         9.8   \n",
       "2  The Other Side of the Wind        2018            6.9         9.8   \n",
       "3  The Other Side of the Wind        2018            6.9         9.8   \n",
       "4  The Other Side of the Wind        2018            6.9         9.8   \n",
       "\n",
       "   vote_average  person_id         category  \n",
       "0           7.0  nm0000080         director  \n",
       "1           7.0  nm0000953            actor  \n",
       "2           7.0  nm0001379            actor  \n",
       "3           7.0  nm0001782          actress  \n",
       "4           7.0  nm0004372  cinematographer  "
      ]
     },
     "execution_count": 85,
     "metadata": {},
     "output_type": "execute_result"
    }
   ],
   "source": [
    "query = \"\"\"\n",
    "SELECT b.primary_title,b.start_year,r.averagerating,t.popularity,t.vote_average, p.person_id, p.category\n",
    "FROM movie_basics AS b\n",
    "JOIN movie_ratings AS r\n",
    "    ON b.movie_id = r.movie_id\n",
    "JOIN tmdb_movies AS t\n",
    "    ON b.primary_title = t.original_title AND b.start_year = t.year\n",
    "LEFT JOIN principals AS p\n",
    "    ON b.movie_id = p.movie_id;\n",
    "\"\"\"\n",
    "\n",
    "merged_basic = pd.read_sql_query(query, conn)\n",
    "print(\"Rows in basic merge:\", merged_basic.shape)\n",
    "merged_basic.head()\n"
   ]
  },
  {
   "cell_type": "code",
   "execution_count": null,
   "metadata": {},
   "outputs": [
    {
     "data": {
      "text/plain": [
       "<bound method DataFrame.info of                      primary_title  start_year  averagerating  popularity  \\\n",
       "0       The Other Side of the Wind        2018            6.9         9.8   \n",
       "1       The Other Side of the Wind        2018            6.9         9.8   \n",
       "2       The Other Side of the Wind        2018            6.9         9.8   \n",
       "3       The Other Side of the Wind        2018            6.9         9.8   \n",
       "4       The Other Side of the Wind        2018            6.9         9.8   \n",
       "...                            ...         ...            ...         ...   \n",
       "106971                   Albatross        2017            8.5         0.6   \n",
       "106972                   Albatross        2017            8.5         0.6   \n",
       "106973                   Albatross        2017            8.5         0.6   \n",
       "106974                   Albatross        2017            8.5         0.6   \n",
       "106975                   Albatross        2017            8.5         0.6   \n",
       "\n",
       "        vote_average  person_id         category  \n",
       "0                7.0  nm0000080         director  \n",
       "1                7.0  nm0000953            actor  \n",
       "2                7.0  nm0001379            actor  \n",
       "3                7.0  nm0001782          actress  \n",
       "4                7.0  nm0004372  cinematographer  \n",
       "...              ...        ...              ...  \n",
       "106971          10.0  nm3980661  cinematographer  \n",
       "106972          10.0  nm4335448  cinematographer  \n",
       "106973          10.0  nm5300859         director  \n",
       "106974          10.0  nm5984982  cinematographer  \n",
       "106975          10.0  nm7332227           writer  \n",
       "\n",
       "[106976 rows x 7 columns]>"
      ]
     },
     "execution_count": 86,
     "metadata": {},
     "output_type": "execute_result"
    }
   ],
   "source": [
    "merged_basic.info"
   ]
  },
  {
   "cell_type": "code",
   "execution_count": null,
   "metadata": {},
   "outputs": [
    {
     "data": {
      "text/html": [
       "<div>\n",
       "<style scoped>\n",
       "    .dataframe tbody tr th:only-of-type {\n",
       "        vertical-align: middle;\n",
       "    }\n",
       "\n",
       "    .dataframe tbody tr th {\n",
       "        vertical-align: top;\n",
       "    }\n",
       "\n",
       "    .dataframe thead th {\n",
       "        text-align: right;\n",
       "    }\n",
       "</style>\n",
       "<table border=\"1\" class=\"dataframe\">\n",
       "  <thead>\n",
       "    <tr style=\"text-align: right;\">\n",
       "      <th></th>\n",
       "      <th>primary_title</th>\n",
       "      <th>start_year</th>\n",
       "      <th>averagerating</th>\n",
       "      <th>popularity</th>\n",
       "      <th>vote_average</th>\n",
       "      <th>person_id</th>\n",
       "      <th>category</th>\n",
       "    </tr>\n",
       "  </thead>\n",
       "  <tbody>\n",
       "    <tr>\n",
       "      <th>0</th>\n",
       "      <td>The Other Side of the Wind</td>\n",
       "      <td>2018</td>\n",
       "      <td>6.9</td>\n",
       "      <td>9.8</td>\n",
       "      <td>7.0</td>\n",
       "      <td>nm0000080</td>\n",
       "      <td>director</td>\n",
       "    </tr>\n",
       "    <tr>\n",
       "      <th>1</th>\n",
       "      <td>The Other Side of the Wind</td>\n",
       "      <td>2018</td>\n",
       "      <td>6.9</td>\n",
       "      <td>9.8</td>\n",
       "      <td>7.0</td>\n",
       "      <td>nm0000953</td>\n",
       "      <td>actor</td>\n",
       "    </tr>\n",
       "    <tr>\n",
       "      <th>2</th>\n",
       "      <td>The Other Side of the Wind</td>\n",
       "      <td>2018</td>\n",
       "      <td>6.9</td>\n",
       "      <td>9.8</td>\n",
       "      <td>7.0</td>\n",
       "      <td>nm0001379</td>\n",
       "      <td>actor</td>\n",
       "    </tr>\n",
       "    <tr>\n",
       "      <th>3</th>\n",
       "      <td>The Other Side of the Wind</td>\n",
       "      <td>2018</td>\n",
       "      <td>6.9</td>\n",
       "      <td>9.8</td>\n",
       "      <td>7.0</td>\n",
       "      <td>nm0001782</td>\n",
       "      <td>actress</td>\n",
       "    </tr>\n",
       "    <tr>\n",
       "      <th>4</th>\n",
       "      <td>The Other Side of the Wind</td>\n",
       "      <td>2018</td>\n",
       "      <td>6.9</td>\n",
       "      <td>9.8</td>\n",
       "      <td>7.0</td>\n",
       "      <td>nm0004372</td>\n",
       "      <td>cinematographer</td>\n",
       "    </tr>\n",
       "    <tr>\n",
       "      <th>5</th>\n",
       "      <td>The Other Side of the Wind</td>\n",
       "      <td>2018</td>\n",
       "      <td>6.9</td>\n",
       "      <td>9.8</td>\n",
       "      <td>7.0</td>\n",
       "      <td>nm0006166</td>\n",
       "      <td>composer</td>\n",
       "    </tr>\n",
       "    <tr>\n",
       "      <th>6</th>\n",
       "      <td>The Other Side of the Wind</td>\n",
       "      <td>2018</td>\n",
       "      <td>6.9</td>\n",
       "      <td>9.8</td>\n",
       "      <td>7.0</td>\n",
       "      <td>nm0462648</td>\n",
       "      <td>actress</td>\n",
       "    </tr>\n",
       "    <tr>\n",
       "      <th>7</th>\n",
       "      <td>The Other Side of the Wind</td>\n",
       "      <td>2018</td>\n",
       "      <td>6.9</td>\n",
       "      <td>9.8</td>\n",
       "      <td>7.0</td>\n",
       "      <td>nm0550881</td>\n",
       "      <td>producer</td>\n",
       "    </tr>\n",
       "    <tr>\n",
       "      <th>8</th>\n",
       "      <td>The Other Side of the Wind</td>\n",
       "      <td>2018</td>\n",
       "      <td>6.9</td>\n",
       "      <td>9.8</td>\n",
       "      <td>7.0</td>\n",
       "      <td>nm0613657</td>\n",
       "      <td>editor</td>\n",
       "    </tr>\n",
       "    <tr>\n",
       "      <th>9</th>\n",
       "      <td>The Other Side of the Wind</td>\n",
       "      <td>2018</td>\n",
       "      <td>6.9</td>\n",
       "      <td>9.8</td>\n",
       "      <td>7.0</td>\n",
       "      <td>nm1475059</td>\n",
       "      <td>producer</td>\n",
       "    </tr>\n",
       "  </tbody>\n",
       "</table>\n",
       "</div>"
      ],
      "text/plain": [
       "                primary_title  start_year  averagerating  popularity  \\\n",
       "0  The Other Side of the Wind        2018            6.9         9.8   \n",
       "1  The Other Side of the Wind        2018            6.9         9.8   \n",
       "2  The Other Side of the Wind        2018            6.9         9.8   \n",
       "3  The Other Side of the Wind        2018            6.9         9.8   \n",
       "4  The Other Side of the Wind        2018            6.9         9.8   \n",
       "5  The Other Side of the Wind        2018            6.9         9.8   \n",
       "6  The Other Side of the Wind        2018            6.9         9.8   \n",
       "7  The Other Side of the Wind        2018            6.9         9.8   \n",
       "8  The Other Side of the Wind        2018            6.9         9.8   \n",
       "9  The Other Side of the Wind        2018            6.9         9.8   \n",
       "\n",
       "   vote_average  person_id         category  \n",
       "0           7.0  nm0000080         director  \n",
       "1           7.0  nm0000953            actor  \n",
       "2           7.0  nm0001379            actor  \n",
       "3           7.0  nm0001782          actress  \n",
       "4           7.0  nm0004372  cinematographer  \n",
       "5           7.0  nm0006166         composer  \n",
       "6           7.0  nm0462648          actress  \n",
       "7           7.0  nm0550881         producer  \n",
       "8           7.0  nm0613657           editor  \n",
       "9           7.0  nm1475059         producer  "
      ]
     },
     "execution_count": 87,
     "metadata": {},
     "output_type": "execute_result"
    }
   ],
   "source": [
    "merged_basic.head(10)"
   ]
  },
  {
   "cell_type": "markdown",
   "metadata": {},
   "source": [
    "Next step is to clean the merged dataset to avoid any duplicate and any unnecessary spaces. \n",
    "We will have to drop 'person_id' and 'category' since duplicates appear after joining principals,\n",
    "lets name the name table 'merged_unique'"
   ]
  },
  {
   "cell_type": "code",
   "execution_count": null,
   "metadata": {},
   "outputs": [
    {
     "data": {
      "text/html": [
       "<div>\n",
       "<style scoped>\n",
       "    .dataframe tbody tr th:only-of-type {\n",
       "        vertical-align: middle;\n",
       "    }\n",
       "\n",
       "    .dataframe tbody tr th {\n",
       "        vertical-align: top;\n",
       "    }\n",
       "\n",
       "    .dataframe thead th {\n",
       "        text-align: right;\n",
       "    }\n",
       "</style>\n",
       "<table border=\"1\" class=\"dataframe\">\n",
       "  <thead>\n",
       "    <tr style=\"text-align: right;\">\n",
       "      <th></th>\n",
       "      <th>primary_title</th>\n",
       "      <th>start_year</th>\n",
       "      <th>averagerating</th>\n",
       "      <th>popularity</th>\n",
       "      <th>vote_average</th>\n",
       "    </tr>\n",
       "  </thead>\n",
       "  <tbody>\n",
       "    <tr>\n",
       "      <th>0</th>\n",
       "      <td>The Other Side of the Wind</td>\n",
       "      <td>2018</td>\n",
       "      <td>6.9</td>\n",
       "      <td>9.800</td>\n",
       "      <td>7.0</td>\n",
       "    </tr>\n",
       "    <tr>\n",
       "      <th>10</th>\n",
       "      <td>Heaven &amp; Hell</td>\n",
       "      <td>2018</td>\n",
       "      <td>4.0</td>\n",
       "      <td>0.600</td>\n",
       "      <td>7.5</td>\n",
       "    </tr>\n",
       "    <tr>\n",
       "      <th>20</th>\n",
       "      <td>Return to Babylon</td>\n",
       "      <td>2013</td>\n",
       "      <td>5.9</td>\n",
       "      <td>0.877</td>\n",
       "      <td>7.0</td>\n",
       "    </tr>\n",
       "    <tr>\n",
       "      <th>30</th>\n",
       "      <td>In My Sleep</td>\n",
       "      <td>2010</td>\n",
       "      <td>5.5</td>\n",
       "      <td>1.795</td>\n",
       "      <td>5.4</td>\n",
       "    </tr>\n",
       "    <tr>\n",
       "      <th>40</th>\n",
       "      <td>Bunyan and Babe</td>\n",
       "      <td>2017</td>\n",
       "      <td>5.0</td>\n",
       "      <td>2.051</td>\n",
       "      <td>6.2</td>\n",
       "    </tr>\n",
       "    <tr>\n",
       "      <th>50</th>\n",
       "      <td>On the Road</td>\n",
       "      <td>2012</td>\n",
       "      <td>6.1</td>\n",
       "      <td>8.919</td>\n",
       "      <td>5.6</td>\n",
       "    </tr>\n",
       "    <tr>\n",
       "      <th>60</th>\n",
       "      <td>The Secret Life of Walter Mitty</td>\n",
       "      <td>2013</td>\n",
       "      <td>7.3</td>\n",
       "      <td>10.743</td>\n",
       "      <td>7.1</td>\n",
       "    </tr>\n",
       "    <tr>\n",
       "      <th>70</th>\n",
       "      <td>Fahrenheit 451</td>\n",
       "      <td>2018</td>\n",
       "      <td>4.9</td>\n",
       "      <td>11.657</td>\n",
       "      <td>5.4</td>\n",
       "    </tr>\n",
       "    <tr>\n",
       "      <th>80</th>\n",
       "      <td>Nappily Ever After</td>\n",
       "      <td>2018</td>\n",
       "      <td>6.4</td>\n",
       "      <td>12.057</td>\n",
       "      <td>7.3</td>\n",
       "    </tr>\n",
       "    <tr>\n",
       "      <th>90</th>\n",
       "      <td>A Walk Among the Tombstones</td>\n",
       "      <td>2014</td>\n",
       "      <td>6.5</td>\n",
       "      <td>19.373</td>\n",
       "      <td>6.3</td>\n",
       "    </tr>\n",
       "  </tbody>\n",
       "</table>\n",
       "</div>"
      ],
      "text/plain": [
       "                      primary_title  start_year  averagerating  popularity  \\\n",
       "0        The Other Side of the Wind        2018            6.9       9.800   \n",
       "10                    Heaven & Hell        2018            4.0       0.600   \n",
       "20                Return to Babylon        2013            5.9       0.877   \n",
       "30                      In My Sleep        2010            5.5       1.795   \n",
       "40                  Bunyan and Babe        2017            5.0       2.051   \n",
       "50                      On the Road        2012            6.1       8.919   \n",
       "60  The Secret Life of Walter Mitty        2013            7.3      10.743   \n",
       "70                   Fahrenheit 451        2018            4.9      11.657   \n",
       "80               Nappily Ever After        2018            6.4      12.057   \n",
       "90      A Walk Among the Tombstones        2014            6.5      19.373   \n",
       "\n",
       "    vote_average  \n",
       "0            7.0  \n",
       "10           7.5  \n",
       "20           7.0  \n",
       "30           5.4  \n",
       "40           6.2  \n",
       "50           5.6  \n",
       "60           7.1  \n",
       "70           5.4  \n",
       "80           7.3  \n",
       "90           6.3  "
      ]
     },
     "execution_count": 97,
     "metadata": {},
     "output_type": "execute_result"
    }
   ],
   "source": [
    "# Drop duplicates\n",
    "merged_unique = merged_basic.drop(columns=['person_id','category']).drop_duplicates()\n",
    "merged_unique.head(10)\n"
   ]
  },
  {
   "cell_type": "code",
   "execution_count": null,
   "metadata": {},
   "outputs": [
    {
     "data": {
      "text/plain": [
       "primary_title    0\n",
       "start_year       0\n",
       "averagerating    0\n",
       "popularity       0\n",
       "vote_average     0\n",
       "dtype: int64"
      ]
     },
     "execution_count": 98,
     "metadata": {},
     "output_type": "execute_result"
    }
   ],
   "source": [
    "#count missing values\n",
    "merged_unique.isna().sum()"
   ]
  },
  {
   "cell_type": "markdown",
   "metadata": {},
   "source": [
    "Lets check if a movie's 'tmdb vote' average is more closely related to its 'tmdb popularity'.\n",
    "This plot helps answer:\n",
    "- Do movies with higher ratings on tmdb also receive higher popularity on the same platform?\n",
    "- Or is popularity largely independent of ratings?"
   ]
  },
  {
   "cell_type": "code",
   "execution_count": null,
   "metadata": {},
   "outputs": [
    {
     "data": {
      "image/png": "[encoded data removed]",
      "text/plain": [
       "<Figure size 640x480 with 1 Axes>"
      ]
     },
     "metadata": {},
     "output_type": "display_data"
    }
   ],
   "source": [
    "#relationship between averagerating and popularity\n",
    "\n",
    "sns.scatterplot(x='averagerating',y='popularity',data=merged_unique)\n",
    "plt.show()"
   ]
  },
  {
   "cell_type": "markdown",
   "metadata": {},
   "source": [
    "Low ratings (1–5):\n",
    "Movies with very low ratings mostly have low popularity (clustered near the bottom left).\n",
    "\n",
    "Medium ratings (5–8):\n",
    "Most movies fall in this range.\n",
    "Popularity values vary a lot here – some are very popular, others not.\n",
    "\n",
    "High ratings (8+):\n",
    "Movies with very high ratings are often popular, with some outliers reaching very high popularity scores.\n",
    "\n",
    "Outliers:\n",
    "There are a few movies with extremely high popularity above 60 that stand out.\n",
    "\n",
    "Overall trend:\n",
    "There is a slight upward trend: as IMDb ratings increase, popularity tends to be higher.\n",
    "However, it’s not a perfect straight line – there is a lot of spread.\n",
    "\n"
   ]
  },
  {
   "cell_type": "code",
   "execution_count": null,
   "metadata": {},
   "outputs": [
    {
     "data": {
      "image/png": "[encoded data removed]",
      "text/plain": [
       "<Figure size 600x400 with 1 Axes>"
      ]
     },
     "metadata": {},
     "output_type": "display_data"
    }
   ],
   "source": [
    "plt.figure(figsize=(6,4))\n",
    "sns.scatterplot(\n",
    "    data=merged_unique,\n",
    "    x='vote_average',\n",
    "    y='popularity',\n",
    "    color='blue',\n",
    "    alpha=0.5\n",
    ")\n",
    "plt.title(\"tmdb Vote Average vs tmdb Popularity\")\n",
    "plt.xlabel(\"tmdb Vote Average\")\n",
    "plt.ylabel(\"tmdb Popularity\")\n",
    "plt.show()\n"
   ]
  },
  {
   "cell_type": "markdown",
   "metadata": {},
   "source": [
    "Similar to the imdb scatterplot, there’s a slight upward pattern, movies with higher tmdb ratings tend to be more popular.\n",
    "Outliers: -A few movies with very high popularity (> 60) stand out.\n",
    "          -Some movies with very low vote averages (0–2) have low popularity.\n",
    "Comparison with imdb vs Popularity:\n",
    "The pattern is very similar. This suggests: Popularity is not strongly driven by ratings even on tmdb.\n",
    "Other factors like marketing strongly influence popularity\n",
    "\n",
    "\n",
    "\n"
   ]
  },
  {
   "cell_type": "markdown",
   "metadata": {},
   "source": [
    "### Key Finding: Popularity vs Ratings\n",
    "\n",
    "Movies that are more popular tend to have slightly higher ratings.  \n",
    "However, \n",
    "The relationship is weak, many popular movies have only average ratings, and some highly rated movies are not very popular.\n"
   ]
  },
  {
   "cell_type": "markdown",
   "metadata": {},
   "source": [
    "### TRENDS OVER TIME ###\n",
    "\n",
    "In this step, we examine how **average imdb ratings** and **average imdb popularity** \n",
    "have changed over time. To help us answer questions such as:\n",
    "\n",
    "- Do recent movies tend to be more or less popular?\n",
    "- Are movie ratings improving or declining with time?\n"
   ]
  },
  {
   "cell_type": "code",
   "execution_count": null,
   "metadata": {},
   "outputs": [
    {
     "data": {
      "image/png": "[encoded data removed]",
      "text/plain": [
       "<Figure size 1200x600 with 1 Axes>"
      ]
     },
     "metadata": {},
     "output_type": "display_data"
    }
   ],
   "source": [
    "plt.figure(figsize=(12,6))\n",
    "\n",
    "sns.lineplot(data=merged_unique, x='start_year', y='averagerating', label='Average imdb Rating', color='orange')\n",
    "sns.lineplot(data=merged_unique, x='start_year', y='popularity', label='Average tmdb Popularity', color='blue')\n",
    "\n",
    "plt.title(\"Trends Over Time: Ratings and Popularity\")\n",
    "plt.xlabel(\"Release Year\")\n",
    "plt.ylabel(\"Average Value\")\n",
    "plt.legend()\n",
    "plt.show()"
   ]
  },
  {
   "cell_type": "markdown",
   "metadata": {},
   "source": [
    "This line chart compares how 'average imdbb ratings' and 'average tmdb popularity'\n",
    "have changed from 2010 to 2018:\n",
    "\n",
    "- **imdb Ratings (orange line):** Stay stable over time, around 5.7–6.0.\n",
    "- **tmdb Popularity (blue line):** Shows more fluctuation and a steep rise in recent years.\n",
    "\n",
    "**Key Insight:**  \n",
    "While ratings remain constant, popularity has risen sharply in recent years,\n",
    "indicating that popularity is influenced by new releases and marketing rather than quality alone.\n"
   ]
  },
  {
   "cell_type": "code",
   "execution_count": null,
   "metadata": {},
   "outputs": [
    {
     "name": "stdout",
     "output_type": "stream",
     "text": [
      "Index(['primary_title', 'start_year', 'averagerating', 'popularity',\n",
      "       'vote_average'],\n",
      "      dtype='object')\n"
     ]
    }
   ],
   "source": [
    "# lets Make sure the column exists\n",
    "print(merged_unique.columns)"
   ]
  },
  {
   "cell_type": "markdown",
   "metadata": {},
   "source": [
    "### GENRE ANALYSIS ###\n",
    "lets run a merge to include the genre column for genre analysis"
   ]
  },
  {
   "cell_type": "code",
   "execution_count": null,
   "metadata": {},
   "outputs": [
    {
     "name": "stdout",
     "output_type": "stream",
     "text": [
      "Rows in unique merge: (11646, 6)\n"
     ]
    },
    {
     "data": {
      "text/html": [
       "<div>\n",
       "<style scoped>\n",
       "    .dataframe tbody tr th:only-of-type {\n",
       "        vertical-align: middle;\n",
       "    }\n",
       "\n",
       "    .dataframe tbody tr th {\n",
       "        vertical-align: top;\n",
       "    }\n",
       "\n",
       "    .dataframe thead th {\n",
       "        text-align: right;\n",
       "    }\n",
       "</style>\n",
       "<table border=\"1\" class=\"dataframe\">\n",
       "  <thead>\n",
       "    <tr style=\"text-align: right;\">\n",
       "      <th></th>\n",
       "      <th>primary_title</th>\n",
       "      <th>start_year</th>\n",
       "      <th>genres</th>\n",
       "      <th>averagerating</th>\n",
       "      <th>popularity</th>\n",
       "      <th>vote_average</th>\n",
       "    </tr>\n",
       "  </thead>\n",
       "  <tbody>\n",
       "    <tr>\n",
       "      <th>0</th>\n",
       "      <td>The Other Side of the Wind</td>\n",
       "      <td>2018</td>\n",
       "      <td>Drama</td>\n",
       "      <td>6.9</td>\n",
       "      <td>9.800</td>\n",
       "      <td>7.0</td>\n",
       "    </tr>\n",
       "    <tr>\n",
       "      <th>1</th>\n",
       "      <td>Heaven &amp; Hell</td>\n",
       "      <td>2018</td>\n",
       "      <td>Drama</td>\n",
       "      <td>4.0</td>\n",
       "      <td>0.600</td>\n",
       "      <td>7.5</td>\n",
       "    </tr>\n",
       "    <tr>\n",
       "      <th>2</th>\n",
       "      <td>Return to Babylon</td>\n",
       "      <td>2013</td>\n",
       "      <td>Biography,Comedy,Drama</td>\n",
       "      <td>5.9</td>\n",
       "      <td>0.877</td>\n",
       "      <td>7.0</td>\n",
       "    </tr>\n",
       "    <tr>\n",
       "      <th>3</th>\n",
       "      <td>In My Sleep</td>\n",
       "      <td>2010</td>\n",
       "      <td>Drama,Mystery,Thriller</td>\n",
       "      <td>5.5</td>\n",
       "      <td>1.795</td>\n",
       "      <td>5.4</td>\n",
       "    </tr>\n",
       "    <tr>\n",
       "      <th>4</th>\n",
       "      <td>Bunyan and Babe</td>\n",
       "      <td>2017</td>\n",
       "      <td>Adventure,Animation,Comedy</td>\n",
       "      <td>5.0</td>\n",
       "      <td>2.051</td>\n",
       "      <td>6.2</td>\n",
       "    </tr>\n",
       "  </tbody>\n",
       "</table>\n",
       "</div>"
      ],
      "text/plain": [
       "                primary_title  start_year                      genres  \\\n",
       "0  The Other Side of the Wind        2018                       Drama   \n",
       "1               Heaven & Hell        2018                       Drama   \n",
       "2           Return to Babylon        2013      Biography,Comedy,Drama   \n",
       "3                 In My Sleep        2010      Drama,Mystery,Thriller   \n",
       "4             Bunyan and Babe        2017  Adventure,Animation,Comedy   \n",
       "\n",
       "   averagerating  popularity  vote_average  \n",
       "0            6.9       9.800           7.0  \n",
       "1            4.0       0.600           7.5  \n",
       "2            5.9       0.877           7.0  \n",
       "3            5.5       1.795           5.4  \n",
       "4            5.0       2.051           6.2  "
      ]
     },
     "execution_count": 150,
     "metadata": {},
     "output_type": "execute_result"
    }
   ],
   "source": [
    "query = \"\"\"\n",
    "SELECT b.primary_title, b.start_year, b.genres, r.averagerating, t.popularity, t.vote_average\n",
    "FROM movie_basics AS b\n",
    "JOIN movie_ratings AS r\n",
    "    ON b.movie_id = r.movie_id\n",
    "JOIN tmdb_movies AS t\n",
    "    ON b.primary_title = t.original_title\n",
    "       AND b.start_year = t.year;\n",
    "\"\"\"\n",
    "\n",
    "merged_unique = pd.read_sql_query(query, conn)\n",
    "print(\"Rows in unique merge:\", merged_unique.shape)\n",
    "merged_unique.head()\n",
    "\n"
   ]
  },
  {
   "cell_type": "markdown",
   "metadata": {},
   "source": [
    "We want to analyze genres.\n",
    "The genres column often looks like this for a single row:\n",
    "Action,Adventure,Sci-Fi meaning that this one movie belongs to multiple genres.\n",
    "To count or average values per genre, we need one row per genre.\n",
    ".str.split(',') turns \"Action,Adventure\" into ['Action', 'Adventure'].\n",
    ".explode('genres') takes those lists and creates a new row for each genre. i did this because genre analysis only makes sense if each row corresponds to one genre.\n",
    "\n"
   ]
  },
  {
   "cell_type": "code",
   "execution_count": null,
   "metadata": {},
   "outputs": [
    {
     "data": {
      "text/html": [
       "<div>\n",
       "<style scoped>\n",
       "    .dataframe tbody tr th:only-of-type {\n",
       "        vertical-align: middle;\n",
       "    }\n",
       "\n",
       "    .dataframe tbody tr th {\n",
       "        vertical-align: top;\n",
       "    }\n",
       "\n",
       "    .dataframe thead th {\n",
       "        text-align: right;\n",
       "    }\n",
       "</style>\n",
       "<table border=\"1\" class=\"dataframe\">\n",
       "  <thead>\n",
       "    <tr style=\"text-align: right;\">\n",
       "      <th></th>\n",
       "      <th>genres</th>\n",
       "      <th>count</th>\n",
       "    </tr>\n",
       "  </thead>\n",
       "  <tbody>\n",
       "    <tr>\n",
       "      <th>0</th>\n",
       "      <td>Documentary</td>\n",
       "      <td>1225</td>\n",
       "    </tr>\n",
       "    <tr>\n",
       "      <th>1</th>\n",
       "      <td>Drama</td>\n",
       "      <td>960</td>\n",
       "    </tr>\n",
       "    <tr>\n",
       "      <th>2</th>\n",
       "      <td>Comedy</td>\n",
       "      <td>565</td>\n",
       "    </tr>\n",
       "    <tr>\n",
       "      <th>3</th>\n",
       "      <td>Horror</td>\n",
       "      <td>557</td>\n",
       "    </tr>\n",
       "    <tr>\n",
       "      <th>4</th>\n",
       "      <td>Comedy,Drama</td>\n",
       "      <td>369</td>\n",
       "    </tr>\n",
       "    <tr>\n",
       "      <th>5</th>\n",
       "      <td>Horror,Thriller</td>\n",
       "      <td>367</td>\n",
       "    </tr>\n",
       "    <tr>\n",
       "      <th>6</th>\n",
       "      <td>Comedy,Drama,Romance</td>\n",
       "      <td>282</td>\n",
       "    </tr>\n",
       "    <tr>\n",
       "      <th>7</th>\n",
       "      <td>Thriller</td>\n",
       "      <td>268</td>\n",
       "    </tr>\n",
       "    <tr>\n",
       "      <th>8</th>\n",
       "      <td>Drama,Romance</td>\n",
       "      <td>238</td>\n",
       "    </tr>\n",
       "    <tr>\n",
       "      <th>9</th>\n",
       "      <td>Drama,Thriller</td>\n",
       "      <td>212</td>\n",
       "    </tr>\n",
       "  </tbody>\n",
       "</table>\n",
       "</div>"
      ],
      "text/plain": [
       "                 genres  count\n",
       "0           Documentary   1225\n",
       "1                 Drama    960\n",
       "2                Comedy    565\n",
       "3                Horror    557\n",
       "4          Comedy,Drama    369\n",
       "5       Horror,Thriller    367\n",
       "6  Comedy,Drama,Romance    282\n",
       "7              Thriller    268\n",
       "8         Drama,Romance    238\n",
       "9        Drama,Thriller    212"
      ]
     },
     "execution_count": 188,
     "metadata": {},
     "output_type": "execute_result"
    }
   ],
   "source": [
    "# Split the genres column into lists and expand into separate rows\n",
    "genres_exploded = merged_unique.assign(genre=merged_unique['genres'].str.split(',').explode('genres'))\n",
    "\n",
    "# Remove any missing/blank values\n",
    "genres_exploded = genres_exploded.dropna(subset=['genres'])\n",
    "genres_exploded['genres'] = genres_exploded['genres'].str.strip()  # clean spaces\n",
    "\n",
    "# Count movies per genre\n",
    "genre_counts = genres_exploded['genres'].value_counts().reset_index()\n",
    "genre_counts.columns = ['genres', 'count']\n",
    "\n",
    "genre_counts.head(10)\n"
   ]
  },
  {
   "cell_type": "code",
   "execution_count": null,
   "metadata": {},
   "outputs": [
    {
     "data": {
      "text/html": [
       "<div>\n",
       "<style scoped>\n",
       "    .dataframe tbody tr th:only-of-type {\n",
       "        vertical-align: middle;\n",
       "    }\n",
       "\n",
       "    .dataframe tbody tr th {\n",
       "        vertical-align: top;\n",
       "    }\n",
       "\n",
       "    .dataframe thead th {\n",
       "        text-align: right;\n",
       "    }\n",
       "</style>\n",
       "<table border=\"1\" class=\"dataframe\">\n",
       "  <thead>\n",
       "    <tr style=\"text-align: right;\">\n",
       "      <th></th>\n",
       "      <th>genres</th>\n",
       "      <th>movie_count</th>\n",
       "      <th>avg_rating</th>\n",
       "      <th>avg_popularity</th>\n",
       "    </tr>\n",
       "  </thead>\n",
       "  <tbody>\n",
       "    <tr>\n",
       "      <th>0</th>\n",
       "      <td>Documentary</td>\n",
       "      <td>1225</td>\n",
       "      <td>6.989959</td>\n",
       "      <td>1.511583</td>\n",
       "    </tr>\n",
       "    <tr>\n",
       "      <th>1</th>\n",
       "      <td>Drama</td>\n",
       "      <td>960</td>\n",
       "      <td>6.051458</td>\n",
       "      <td>2.488955</td>\n",
       "    </tr>\n",
       "    <tr>\n",
       "      <th>2</th>\n",
       "      <td>Comedy</td>\n",
       "      <td>565</td>\n",
       "      <td>5.312212</td>\n",
       "      <td>3.305742</td>\n",
       "    </tr>\n",
       "    <tr>\n",
       "      <th>3</th>\n",
       "      <td>Horror</td>\n",
       "      <td>557</td>\n",
       "      <td>4.173788</td>\n",
       "      <td>2.163386</td>\n",
       "    </tr>\n",
       "    <tr>\n",
       "      <th>4</th>\n",
       "      <td>Comedy,Drama</td>\n",
       "      <td>369</td>\n",
       "      <td>6.038211</td>\n",
       "      <td>4.125420</td>\n",
       "    </tr>\n",
       "    <tr>\n",
       "      <th>5</th>\n",
       "      <td>Horror,Thriller</td>\n",
       "      <td>367</td>\n",
       "      <td>4.359128</td>\n",
       "      <td>3.624905</td>\n",
       "    </tr>\n",
       "    <tr>\n",
       "      <th>6</th>\n",
       "      <td>Comedy,Drama,Romance</td>\n",
       "      <td>282</td>\n",
       "      <td>5.973759</td>\n",
       "      <td>4.549890</td>\n",
       "    </tr>\n",
       "    <tr>\n",
       "      <th>7</th>\n",
       "      <td>Thriller</td>\n",
       "      <td>268</td>\n",
       "      <td>4.685821</td>\n",
       "      <td>2.103377</td>\n",
       "    </tr>\n",
       "    <tr>\n",
       "      <th>8</th>\n",
       "      <td>Drama,Romance</td>\n",
       "      <td>238</td>\n",
       "      <td>6.149580</td>\n",
       "      <td>4.883340</td>\n",
       "    </tr>\n",
       "    <tr>\n",
       "      <th>9</th>\n",
       "      <td>Drama,Thriller</td>\n",
       "      <td>212</td>\n",
       "      <td>5.499057</td>\n",
       "      <td>3.853500</td>\n",
       "    </tr>\n",
       "  </tbody>\n",
       "</table>\n",
       "</div>"
      ],
      "text/plain": [
       "                 genres  movie_count  avg_rating  avg_popularity\n",
       "0           Documentary         1225    6.989959        1.511583\n",
       "1                 Drama          960    6.051458        2.488955\n",
       "2                Comedy          565    5.312212        3.305742\n",
       "3                Horror          557    4.173788        2.163386\n",
       "4          Comedy,Drama          369    6.038211        4.125420\n",
       "5       Horror,Thriller          367    4.359128        3.624905\n",
       "6  Comedy,Drama,Romance          282    5.973759        4.549890\n",
       "7              Thriller          268    4.685821        2.103377\n",
       "8         Drama,Romance          238    6.149580        4.883340\n",
       "9        Drama,Thriller          212    5.499057        3.853500"
      ]
     },
     "execution_count": 189,
     "metadata": {},
     "output_type": "execute_result"
    }
   ],
   "source": [
    "query = \"\"\"\n",
    "SELECT b.genres, COUNT(*) AS movie_count,\n",
    "    AVG(r.averagerating) AS avg_rating,\n",
    "    AVG(t.popularity) AS avg_popularity\n",
    "FROM movie_basics AS b\n",
    "JOIN movie_ratings AS r \n",
    "    ON b.movie_id = r.movie_id\n",
    "JOIN tmdb_movies AS t\n",
    "    ON b.primary_title = t.original_title\n",
    "       AND b.start_year = t.year\n",
    "GROUP BY b.genres\n",
    "ORDER BY movie_count DESC\n",
    "LIMIT 10;\n",
    "\"\"\"\n",
    "genre_sql = pd.read_sql_query(query, conn)\n",
    "genre_sql\n"
   ]
  },
  {
   "cell_type": "code",
   "execution_count": null,
   "metadata": {},
   "outputs": [
    {
     "name": "stdout",
     "output_type": "stream",
     "text": [
      "Index(['genres', 'movie_count', 'avg_rating', 'avg_popularity'], dtype='object')\n"
     ]
    }
   ],
   "source": [
    "print(genre_sql.columns)"
   ]
  },
  {
   "cell_type": "code",
   "execution_count": null,
   "metadata": {},
   "outputs": [
    {
     "data": {
      "image/png": "[encoded data removed]",
      "text/plain": [
       "<Figure size 1200x600 with 1 Axes>"
      ]
     },
     "metadata": {},
     "output_type": "display_data"
    }
   ],
   "source": [
    "# Reshape for plotting\n",
    "genre_sql= genre_sql.melt(\n",
    "    id_vars='genres',\n",
    "    value_vars=['avg_rating', 'avg_popularity'],\n",
    "    var_name='metric',\n",
    "    value_name='value'\n",
    ")\n",
    "\n",
    "plt.figure(figsize=(12,6))\n",
    "sns.barplot(data=genre_sql,\n",
    "            x='genres', y='value', hue='metric', palette='Set2', color = 'green')\n",
    "sns.barplot(data=genre_sql,          \n",
    "            x='genres', y='value', hue='metric', palette='Set2', color='orange')\n",
    "plt.title(\"Average imdb Ratings and tmdb Popularity by Combined Genres (Top 10)\")\n",
    "plt.xlabel(\"Genres\")\n",
    "plt.ylabel(\"Average Value\")\n",
    "plt.xticks(rotation=45, ha='right')\n",
    "plt.legend(title=\"Metric\", labels=[\"imdb Rating\", \"tmdb Popularity\"])\n",
    "plt.show()\n"
   ]
  },
  {
   "cell_type": "markdown",
   "metadata": {},
   "source": [
    "### Insights\n",
    "\n",
    "From the combined visualization of **average ratings and popularity**:\n",
    "\n",
    "1. **Top genres by popularity:**  \n",
    "   - The genres with the highest average popularity are: comedy drama, Comedy drama romance, drama romance.\n",
    "\n",
    "2. **Top genres by ratings:**  \n",
    "   - The genres with the highest average IMDb ratings are: documentary, drama, comedy.\n",
    "\n",
    "3. **Balance between quality and hype:**  \n",
    "   - Genres like comedy drama and comedy drama romance show high popularity but relatively low ratings.\n",
    "   - Genres like documentary are highly rated but not very popular.\n",
    "\n",
    "4. **Impact of movie count:**  \n",
    "   - Some genres with high averages like documentarary have **fewer movies**.\n",
    "   - Others with **many movies** like drama, dominate the dataset.\n",
    "\n",
    "**Conclusion:**  \n",
    "These results suggest that popularity does not always align with quality.  \n",
    "For deeper insights we should maybe explore **individual genre and time trends**\n"
   ]
  }
 ],
 "metadata": {
  "kernelspec": {
   "display_name": "base",
   "language": "python",
   "name": "python3"
  },
  "language_info": {
   "codemirror_mode": {
    "name": "ipython",
    "version": 3
   },
   "file_extension": ".py",
   "mimetype": "text/x-python",
   "name": "python",
   "nbconvert_exporter": "python",
   "pygments_lexer": "ipython3",
   "version": "3.12.7"
  }
 },
 "nbformat": 4,
 "nbformat_minor": 2
}
